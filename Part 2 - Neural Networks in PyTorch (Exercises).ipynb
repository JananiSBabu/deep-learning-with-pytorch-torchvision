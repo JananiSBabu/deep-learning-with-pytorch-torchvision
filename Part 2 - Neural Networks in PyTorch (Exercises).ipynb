{
 "cells": [
  {
   "cell_type": "markdown",
   "metadata": {},
   "source": [
    "# Neural networks with PyTorch\n",
    "\n",
    "Deep learning networks tend to be massive with dozens or hundreds of layers, that's where the term \"deep\" comes from. You can build one of these deep networks using only weight matrices as we did in the previous notebook, but in general it's very cumbersome and difficult to implement. PyTorch has a nice module `nn` that provides a nice way to efficiently build large neural networks."
   ]
  },
  {
   "cell_type": "code",
   "execution_count": 2,
   "metadata": {},
   "outputs": [],
   "source": [
    "# Import necessary packages\n",
    "\n",
    "%matplotlib inline\n",
    "%config InlineBackend.figure_format = 'retina'\n",
    "\n",
    "import numpy as np\n",
    "import torch\n",
    "\n",
    "import helper\n",
    "\n",
    "import matplotlib.pyplot as plt"
   ]
  },
  {
   "cell_type": "markdown",
   "metadata": {},
   "source": [
    "\n",
    "Now we're going to build a larger network that can solve a (formerly) difficult problem, identifying text in an image. Here we'll use the MNIST dataset which consists of greyscale handwritten digits. Each image is 28x28 pixels, you can see a sample below\n",
    "\n",
    "<img src='assets/mnist.png'>\n",
    "\n",
    "Our goal is to build a neural network that can take one of these images and predict the digit in the image.\n",
    "\n",
    "First up, we need to get our dataset. This is provided through the `torchvision` package. The code below will download the MNIST dataset, then create training and test datasets for us. Don't worry too much about the details here, you'll learn more about this later."
   ]
  },
  {
   "cell_type": "code",
   "execution_count": 3,
   "metadata": {},
   "outputs": [],
   "source": [
    "### Run this cell\n",
    "\n",
    "from torchvision import datasets, transforms\n",
    "\n",
    "# Define a transform to normalize the data\n",
    "transform = transforms.Compose([transforms.ToTensor(),\n",
    "                              transforms.Normalize((0.5,), (0.5,)),\n",
    "                              ])\n",
    "\n",
    "# Download and load the training data\n",
    "trainset = datasets.MNIST('~/.pytorch/MNIST_data/', download=True, train=True, transform=transform)\n",
    "trainloader = torch.utils.data.DataLoader(trainset, batch_size=64, shuffle=True)"
   ]
  },
  {
   "cell_type": "markdown",
   "metadata": {},
   "source": [
    "We have the training data loaded into `trainloader` and we make that an iterator with `iter(trainloader)`. Later, we'll use this to loop through the dataset for training, like\n",
    "\n",
    "```python\n",
    "for image, label in trainloader:\n",
    "    ## do things with images and labels\n",
    "```\n",
    "\n",
    "You'll notice I created the `trainloader` with a batch size of 64, and `shuffle=True`. The batch size is the number of images we get in one iteration from the data loader and pass through our network, often called a *batch*. And `shuffle=True` tells it to shuffle the dataset every time we start going through the data loader again. But here I'm just grabbing the first batch so we can check out the data. We can see below that `images` is just a tensor with size `(64, 1, 28, 28)`. So, 64 images per batch, 1 color channel, and 28x28 images."
   ]
  },
  {
   "cell_type": "code",
   "execution_count": 4,
   "metadata": {},
   "outputs": [
    {
     "name": "stdout",
     "output_type": "stream",
     "text": [
      "<class 'torch.Tensor'>\n",
      "torch.Size([64, 1, 28, 28])\n",
      "torch.Size([64])\n"
     ]
    }
   ],
   "source": [
    "dataiter = iter(trainloader)\n",
    "images, labels = dataiter.next()\n",
    "print(type(images))\n",
    "print(images.shape)\n",
    "print(labels.shape)"
   ]
  },
  {
   "cell_type": "markdown",
   "metadata": {},
   "source": [
    "This is what one of the images looks like. "
   ]
  },
  {
   "cell_type": "code",
   "execution_count": 5,
   "metadata": {},
   "outputs": [
    {
     "data": {
      "image/png": "[encoded data removed]",
      "text/plain": [
       "<Figure size 432x288 with 1 Axes>"
      ]
     },
     "metadata": {
      "image/png": {
       "height": 248,
       "width": 251
      },
      "needs_background": "light"
     },
     "output_type": "display_data"
    }
   ],
   "source": [
    "plt.imshow(images[1].numpy().squeeze(), cmap='Greys_r');"
   ]
  },
  {
   "cell_type": "markdown",
   "metadata": {},
   "source": [
    "First, let's try to build a simple network for this dataset using weight matrices and matrix multiplications. Then, we'll see how to do it using PyTorch's `nn` module which provides a much more convenient and powerful method for defining network architectures.\n",
    "\n",
    "The networks you've seen so far are called *fully-connected* or *dense* networks. Each unit in one layer is connected to each unit in the next layer. In fully-connected networks, the input to each layer must be a one-dimensional vector (which can be stacked into a 2D tensor as a batch of multiple examples). However, our images are 28x28 2D tensors, so we need to convert them into 1D vectors. Thinking about sizes, we need to convert the batch of images with shape `(64, 1, 28, 28)` to a have a shape of `(64, 784)`, 784 is 28 times 28. This is typically called *flattening*, we flattened the 2D images into 1D vectors.\n",
    "\n",
    "Previously you built a network with one output unit. Here we need 10 output units, one for each digit. We want our network to predict the digit shown in an image, so what we'll do is calculate probabilities that the image is of any one digit or class. This ends up being a discrete probability distribution over the classes (digits) that tells us the most likely class for the image. That means we need 10 output units for the 10 classes (digits). We'll see how to convert the network output into a probability distribution next.\n",
    "\n",
    "> **Exercise:** Flatten the batch of images `images`. Then build a multi-layer network with 784 input units, 256 hidden units, and 10 output units using random tensors for the weights and biases. For now, use a sigmoid activation for the hidden layer. Leave the output layer without an activation, we'll add one that gives us a probability distribution next."
   ]
  },
  {
   "cell_type": "code",
   "execution_count": 7,
   "metadata": {},
   "outputs": [
    {
     "name": "stdout",
     "output_type": "stream",
     "text": [
      "inputs :  torch.Size([64, 784])\n",
      "hidden :  torch.Size([64, 256])\n",
      "output :  torch.Size([64, 10])\n"
     ]
    }
   ],
   "source": [
    "## Your solution\n",
    "import torch\n",
    "\n",
    "def activation(x):\n",
    "    return 1 / (1 + torch.exp(-x))\n",
    "\n",
    "# initialization\n",
    "torch.manual_seed(7)\n",
    "\n",
    "n_input = images.shape[2] * images.shape[3] # 784\n",
    "n_hidden = 256\n",
    "n_output = 10\n",
    "\n",
    "w1 = torch.randn(n_input, n_hidden)  # 784 x 256\n",
    "b1 = torch.randn(n_hidden)           #256\n",
    "\n",
    "w2 = torch.randn(n_hidden, n_output) # 256 x 10\n",
    "b2 = torch.randn(n_output)           #10\n",
    "\n",
    "# flatten the input 28 x 28 to vector for all 64 images in a batch\n",
    "inputs = images.view(images.shape[0], -1)\n",
    "print(\"inputs : \",inputs.shape)                 # 64 x 784\n",
    "\n",
    "h = activation(torch.mm(inputs, w1) + b1)\n",
    "print(\"hidden : \",h.shape)   \n",
    "\n",
    "out = torch.mm(h, w2) + b2\n",
    "print(\"output : \",out.shape)     \n",
    "# output of your network, should have shape (64,10)"
   ]
  },
  {
   "cell_type": "code",
   "execution_count": 8,
   "metadata": {},
   "outputs": [
    {
     "name": "stdout",
     "output_type": "stream",
     "text": [
      "tensor([[  7.9538, -15.4808,  -3.8827,  -1.7754,  -6.7087,   7.3118, -12.0165,\n",
      "          -5.7351,   2.7025,  -3.2306],\n",
      "        [ -0.2397,  -5.3498,  -1.1475, -10.0855,  -8.8113,   2.5303,   4.5739,\n",
      "          -9.5360,   1.2140, -15.1885],\n",
      "        [ -2.1376, -14.0547,   2.2965,  -3.8993,  -0.1184,  21.1695,  -4.7302,\n",
      "          -6.9324,   1.0959, -15.4751],\n",
      "        [  7.8197, -10.6639,   2.9148,  -1.4286,  -0.9167,   7.5568, -10.1898,\n",
      "          -3.0622,   3.9986,  -6.4348],\n",
      "        [  3.3638,   0.1353,  -2.6537, -10.8202,   1.1936,   2.1799,  -2.7809,\n",
      "           6.0766,   0.7516, -14.4575],\n",
      "        [  2.1509,   2.2531,  -7.4093, -15.2979,  -6.5963,   9.5121, -17.4279,\n",
      "          -2.4847,   0.9164,  -5.4663],\n",
      "        [  2.8128,  -4.6417,   1.3636,  -8.1960,  -1.3501,  13.4157,  -1.4433,\n",
      "          -9.5706,  -7.0719, -15.2320],\n",
      "        [ -2.6546,  -5.3684,   1.0867,   0.4719,  -0.2913,   6.2057,   0.4617,\n",
      "          -2.9872,  12.0214,  -2.8461],\n",
      "        [  4.1251,  -0.2454,   4.4332,  -1.8004,  -1.7722,   9.1937,  -9.6305,\n",
      "         -12.3494,  -0.1240,  -4.9547],\n",
      "        [  1.5417,   0.9205,  -4.7337,  -9.9598,  -3.6269,   7.7267,  -6.5340,\n",
      "          -4.9748,   3.0616,  -8.8873],\n",
      "        [  2.6866,  -1.5989,   0.9436,  -5.4968,  -0.8301,  12.9296,  -2.4442,\n",
      "         -10.5359,   7.3042,   4.5580],\n",
      "        [  2.6899,  -5.9828,   9.4279,  -7.3434,  -1.9721,   5.9258,  -3.4700,\n",
      "         -16.1421, -10.2420, -14.8650],\n",
      "        [  8.2492,  -4.5785,  -2.8826,  -9.4405,  -1.0259,  10.1265,  -5.4132,\n",
      "          -5.7714,   4.3914,  -4.0645],\n",
      "        [  2.5716,   0.4764,   5.5292, -11.3762,   2.2701,   6.3667,  -5.7350,\n",
      "          -8.7057,   3.4962,  -9.2899],\n",
      "        [  5.2100, -11.7653,  -3.8877,  -5.0472,  -5.4573,   7.4051,  -6.9070,\n",
      "          -6.0410,  -0.7128, -11.9618],\n",
      "        [  5.6340,  -7.3916,  -1.8058,   6.4254, -12.4542,   9.8029,  -5.4437,\n",
      "         -10.9962,  11.0393, -16.5265],\n",
      "        [  2.7727,  -7.2246,   4.4308,  -4.8032,  -9.0287,   7.4584,  -5.1794,\n",
      "          -8.5140,   0.9481,  -7.2713],\n",
      "        [  1.9305,  -6.2436,   6.4442,  -1.2653, -12.6792,   2.7130,  -5.8536,\n",
      "          -2.3716,   5.3601, -11.9418],\n",
      "        [  0.5086,  -3.3200,  -1.5091, -12.8040,  -4.2022,  20.4169,  -5.8976,\n",
      "           0.3645,   0.0854,  -9.0696],\n",
      "        [  5.4749,  -5.4612,   1.1357,  -3.1115,  -7.6886,   5.8599, -14.8737,\n",
      "          -3.6782,   5.0850,  -6.1356],\n",
      "        [  5.4215,  -7.6450,   1.3100,  -5.9938,  -8.5205,   8.3946,   1.5128,\n",
      "          -9.2549,  -3.1337,  -9.4604],\n",
      "        [ -3.7207, -16.5667,  -1.5232,  -1.6635,  -7.7590,   4.3553,  -5.7867,\n",
      "          -2.4006,   5.9095,  -4.6497],\n",
      "        [  4.6698,  -3.8282,   3.2186,  -1.6839,  -4.0704,   4.9826,  -4.7748,\n",
      "          -8.6752,   4.8137, -13.3666],\n",
      "        [ -4.7122,  -5.1504,  10.5981,  -0.8991,  -7.0054,  16.0463,  -2.6338,\n",
      "         -13.2961,   6.8050, -10.9499],\n",
      "        [ -0.1063,  -5.4007, -10.3230,  -0.4230,  -5.6647,   3.4980, -10.3682,\n",
      "         -10.7885,   5.9138,  -3.8261],\n",
      "        [  4.1153, -12.8090,  -7.4675,   2.0719,  -8.2711,   4.1096, -10.9432,\n",
      "         -12.7194,  -0.1505,  -4.4142],\n",
      "        [ -1.8310,  -7.8409,   3.3904,  -4.4349,  -0.9236,   3.3930, -10.2706,\n",
      "          -0.5812,   2.1193, -11.1290],\n",
      "        [ -4.0225,  -5.7115,  -6.7761,  -4.6894,   0.1776,  11.1161,  -0.7504,\n",
      "          -8.8047,  14.0749, -15.4135],\n",
      "        [  3.2403,  -7.8991,   2.8066,   0.8011,  -7.4922,   9.9775, -10.8086,\n",
      "          -9.3992,   8.6238, -11.4075],\n",
      "        [  0.5722,  -4.4273,  14.7823,   1.1841,  -8.4945,  14.0955, -10.4929,\n",
      "          -7.3887,  -2.7742, -16.8157],\n",
      "        [ -2.4519, -10.7100,  -4.9438,  -8.1058,   0.8708,   6.0881, -10.2242,\n",
      "          -9.5495,   1.1519,  -4.1261],\n",
      "        [  0.6721,   0.6730,  -1.7002,  -4.9611,  -0.0799,   6.9375,  -4.0339,\n",
      "         -16.7888,   0.7702,  -0.8579],\n",
      "        [  8.3660,   1.7543,  -2.1114,   6.6485,   3.7596,   5.5397,  -8.9123,\n",
      "          -9.5786,   1.4038,  -8.4993],\n",
      "        [ -3.4652,  -2.8000,  -0.1663, -11.1600,  -5.3379,   3.2807,  -3.8332,\n",
      "         -10.9706,   3.3547,   3.6987],\n",
      "        [  0.4322,  -6.0004,   3.7674,   0.7512,  -2.3294,  12.2714,  -4.0165,\n",
      "          -0.0305,  11.3322,  -4.3959],\n",
      "        [  4.2280, -12.9821,   9.3449,  -7.4902,  -2.9141,   8.3868,  -6.4659,\n",
      "          -8.1687,  -3.2667,  -9.4507],\n",
      "        [ -1.7101,   2.2139,   2.3739,  -5.0809,  -2.3673,  10.3362,  -4.8630,\n",
      "         -13.4181,   7.1099,  -0.9356],\n",
      "        [ -1.2985, -11.3870,   0.1978,  -0.4959,  -8.3685,   2.4674,  -8.8228,\n",
      "          -7.2619,   7.9984,  -0.9272],\n",
      "        [  4.4245, -14.0071,  -2.9198, -10.2610,  -0.7835,  10.4980,  -6.7283,\n",
      "          -9.7464,  -1.7505,  -2.0283],\n",
      "        [ -2.0688, -12.3769,   7.3409, -10.9999,  -8.3730,  17.2430,   0.1468,\n",
      "          -7.6529,  -1.1998,  -6.6141],\n",
      "        [  2.5068,  -7.1209,  -2.2984,  -3.1864,  -2.8617,  15.1210,  -0.0929,\n",
      "          -7.4922,  -2.7988,  -5.8756],\n",
      "        [ -2.2664, -13.1417,   0.5560, -10.4773,  -6.4792,   7.6491,  -1.3308,\n",
      "          -5.9232,   3.3525, -11.2577],\n",
      "        [  7.9844,  -1.5418,   7.6867,  -6.9276,  -4.5848,   8.8975,  -6.6853,\n",
      "           3.4036,   8.1474, -11.2388],\n",
      "        [  2.0947, -10.0134,   6.7479,  -6.0038,   1.1400,  10.8828,  -1.5155,\n",
      "          -6.6107,  -2.9812, -13.3196],\n",
      "        [ -2.9584,  -6.7891,   5.4834, -10.4170,  -1.5215,  13.9802,   2.6200,\n",
      "          -5.5436,  -3.7240, -10.8332],\n",
      "        [  1.5906,   2.3579,  -0.0964,  -7.7732,   0.1603,  15.1956,  -5.8314,\n",
      "         -10.0242,   0.8300, -12.1789],\n",
      "        [ -2.9698,  -1.1336,   2.5381,  -3.3960,  -4.1196,   4.5737,  -9.5047,\n",
      "          -7.7773,   9.6192,   0.9031],\n",
      "        [  2.6267,  -7.3002,   0.3239,   0.3163,  -1.1547,   6.0161,  -5.7832,\n",
      "          -5.0040,   7.3216,  -6.7289],\n",
      "        [ -1.6693,  -3.2760,   1.4824, -10.7658,  -3.4781,  10.2040,  -7.6759,\n",
      "          -7.4621,   1.5709, -11.2244],\n",
      "        [ -2.2670,  -3.3795,  -0.4175,  -2.3635,  -0.4684,   6.7839,  -4.8187,\n",
      "          -6.4632,   8.8752,  -5.9952],\n",
      "        [-14.9016, -12.7571,  -7.7849,   1.6504,  -6.9308,   6.0469,  -5.0461,\n",
      "          -4.9284,  -2.3294,  -3.0453],\n",
      "        [ -4.6965,  -4.0224,   5.7313, -10.0706,  -7.2060,  14.0736, -11.3932,\n",
      "          -2.6218,  13.6215,  -6.7129],\n",
      "        [  2.7745,   5.3976,  -3.8602,  -6.2467,   4.7281,   9.3043,   6.1107,\n",
      "           1.1794,   9.8921, -12.7379],\n",
      "        [  1.4888,  -1.3469,   3.7139,   0.0316,   1.7237,  10.6782,   5.1269,\n",
      "           1.6075,   4.9016,  -7.3393],\n",
      "        [ -1.6607,  -8.3270,   4.1768,  -2.6040,  -5.0529,  11.4082,  -8.8832,\n",
      "         -12.8393,   3.4341, -13.1691],\n",
      "        [  5.9781, -15.4959,  -1.3252, -12.8976,  -6.4100,   9.6725,  -8.3090,\n",
      "          -6.4980,  -2.6217,  -1.4085],\n",
      "        [ -0.5030,  -6.9914,  -3.0506,  -9.3117,   0.5564,   8.6768,  -2.2801,\n",
      "          -6.2883,   6.4073,  -5.9420],\n",
      "        [ -7.9566,  -5.7573,  -4.2329,  -0.1100,  -5.9011,   7.4817,  -9.6475,\n",
      "         -11.8919,   6.7436,   3.6022],\n",
      "        [  1.0239,  -9.0247,   5.4703,  -2.4313,  -7.9628,   8.7881,  -7.3857,\n",
      "         -14.8438,   4.8107,  -8.4225],\n",
      "        [  2.5601,  -8.2768,   0.9738,  -1.5344,  -7.8289,   6.2708,   1.2470,\n",
      "          -3.5442,  -0.7474,  -6.5200],\n",
      "        [  8.2819,  -5.1986,   1.4576,  -7.0014,  -5.8320,   5.4438,   1.5639,\n",
      "         -15.3590, -10.4469, -21.0230],\n",
      "        [  3.9993, -14.1213,   1.5687,  -9.4978,  -7.8170,  11.7941,  -3.1910,\n",
      "         -14.1810,  -3.9474,  -2.2220],\n",
      "        [ -9.5946, -12.7051,  -5.3186,  -5.1720,  -7.8897,   7.3091,  -7.9875,\n",
      "          -4.7823,   5.8278,   0.1300],\n",
      "        [  3.9092, -13.7734,   1.3894,   3.8862,  -7.3536,   7.3278,  -7.9425,\n",
      "          -6.8819,   4.5694,  -5.5248]])\n"
     ]
    }
   ],
   "source": [
    "print(out)"
   ]
  },
  {
   "cell_type": "markdown",
   "metadata": {},
   "source": [
    "Now we have 10 outputs for our network. We want to pass in an image to our network and get out a probability distribution over the classes that tells us the likely class(es) the image belongs to. Something that looks like this:\n",
    "<img src='assets/image_distribution.png' width=500px>\n",
    "\n",
    "Here we see that the probability for each class is roughly the same. This is representing an untrained network, it hasn't seen any data yet so it just returns a uniform distribution with equal probabilities for each class.\n",
    "\n",
    "To calculate this probability distribution, we often use the [**softmax** function](https://en.wikipedia.org/wiki/Softmax_function). Mathematically this looks like\n",
    "\n",
    "$$\n",
    "\\Large \\sigma(x_i) = \\cfrac{e^{x_i}}{\\sum_k^K{e^{x_k}}}\n",
    "$$\n",
    "\n",
    "What this does is squish each input $x_i$ between 0 and 1 and normalizes the values to give you a proper probability distribution where the probabilites sum up to one.\n",
    "\n",
    "> **Exercise:** Implement a function `softmax` that performs the softmax calculation and returns probability distributions for each example in the batch. Note that you'll need to pay attention to the shapes when doing this. If you have a tensor `a` with shape `(64, 10)` and a tensor `b` with shape `(64,)`, doing `a/b` will give you an error because PyTorch will try to do the division across the columns (called broadcasting) but you'll get a size mismatch. The way to think about this is for each of the 64 examples, you only want to divide by one value, the sum in the denominator. So you need `b` to have a shape of `(64, 1)`. This way PyTorch will divide the 10 values in each row of `a` by the one value in each row of `b`. Pay attention to how you take the sum as well. You'll need to define the `dim` keyword in `torch.sum`. Setting `dim=0` takes the sum across the rows while `dim=1` takes the sum across the columns."
   ]
  },
  {
   "cell_type": "code",
   "execution_count": 9,
   "metadata": {},
   "outputs": [
    {
     "name": "stdout",
     "output_type": "stream",
     "text": [
      "torch.Size([64, 10])\n",
      "tensor([1.0000, 1.0000, 1.0000, 1.0000, 1.0000, 1.0000, 1.0000, 1.0000, 1.0000,\n",
      "        1.0000, 1.0000, 1.0000, 1.0000, 1.0000, 1.0000, 1.0000, 1.0000, 1.0000,\n",
      "        1.0000, 1.0000, 1.0000, 1.0000, 1.0000, 1.0000, 1.0000, 1.0000, 1.0000,\n",
      "        1.0000, 1.0000, 1.0000, 1.0000, 1.0000, 1.0000, 1.0000, 1.0000, 1.0000,\n",
      "        1.0000, 1.0000, 1.0000, 1.0000, 1.0000, 1.0000, 1.0000, 1.0000, 1.0000,\n",
      "        1.0000, 1.0000, 1.0000, 1.0000, 1.0000, 1.0000, 1.0000, 1.0000, 1.0000,\n",
      "        1.0000, 1.0000, 1.0000, 1.0000, 1.0000, 1.0000, 1.0000, 1.0000, 1.0000,\n",
      "        1.0000])\n"
     ]
    }
   ],
   "source": [
    "def softmax(x):\n",
    "    ## TODO: Implement the softmax function here\n",
    "    ex = torch.exp(x)  # 64 x 10\n",
    "    ex_sum = torch.sum(ex, 1).view(-1,1) # 64 x 1\n",
    "    return ex / ex_sum\n",
    "\n",
    "# Here, out should be the output of the network in the previous excercise with shape (64,10)\n",
    "probabilities = softmax(out)\n",
    "\n",
    "# Does it have the right shape? Should be (64, 10)\n",
    "print(probabilities.shape)\n",
    "# Does it sum to 1?\n",
    "print(probabilities.sum(dim=1))"
   ]
  },
  {
   "cell_type": "markdown",
   "metadata": {},
   "source": [
    "## Building networks with PyTorch\n",
    "\n",
    "PyTorch provides a module `nn` that makes building networks much simpler. Here I'll show you how to build the same one as above with 784 inputs, 256 hidden units, 10 output units and a softmax output."
   ]
  },
  {
   "cell_type": "code",
   "execution_count": 11,
   "metadata": {},
   "outputs": [],
   "source": [
    "from torch import nn"
   ]
  },
  {
   "cell_type": "code",
   "execution_count": 12,
   "metadata": {},
   "outputs": [],
   "source": [
    "class Network(nn.Module):\n",
    "    def __init__(self):\n",
    "        super().__init__()\n",
    "        \n",
    "        # Inputs to hidden layer linear transformation\n",
    "        self.hidden = nn.Linear(784, 256)\n",
    "        # Output layer, 10 units - one for each digit\n",
    "        self.output = nn.Linear(256, 10)\n",
    "        \n",
    "        # Define sigmoid activation and softmax output \n",
    "        self.sigmoid = nn.Sigmoid()\n",
    "        self.softmax = nn.Softmax(dim=1)\n",
    "        \n",
    "    def forward(self, x):\n",
    "        # Pass the input tensor through each of our operations\n",
    "        x = self.hidden(x)\n",
    "        x = self.sigmoid(x)\n",
    "        x = self.output(x)\n",
    "        x = self.softmax(x)\n",
    "        \n",
    "        return x"
   ]
  },
  {
   "cell_type": "markdown",
   "metadata": {},
   "source": [
    "Let's go through this bit by bit.\n",
    "\n",
    "```python\n",
    "class Network(nn.Module):\n",
    "```\n",
    "\n",
    "Here we're inheriting from `nn.Module`. Combined with `super().__init__()` this creates a class that tracks the architecture and provides a lot of useful methods and attributes. It is mandatory to inherit from `nn.Module` when you're creating a class for your network. The name of the class itself can be anything.\n",
    "\n",
    "```python\n",
    "self.hidden = nn.Linear(784, 256)\n",
    "```\n",
    "\n",
    "This line creates a module for a linear transformation, $x\\mathbf{W} + b$, with 784 inputs and 256 outputs and assigns it to `self.hidden`. The module automatically creates the weight and bias tensors which we'll use in the `forward` method. You can access the weight and bias tensors once the network (`net`) is created with `net.hidden.weight` and `net.hidden.bias`.\n",
    "\n",
    "```python\n",
    "self.output = nn.Linear(256, 10)\n",
    "```\n",
    "\n",
    "Similarly, this creates another linear transformation with 256 inputs and 10 outputs.\n",
    "\n",
    "```python\n",
    "self.sigmoid = nn.Sigmoid()\n",
    "self.softmax = nn.Softmax(dim=1)\n",
    "```\n",
    "\n",
    "Here I defined operations for the sigmoid activation and softmax output. Setting `dim=1` in `nn.Softmax(dim=1)` calculates softmax across the columns.\n",
    "\n",
    "```python\n",
    "def forward(self, x):\n",
    "```\n",
    "\n",
    "PyTorch networks created with `nn.Module` must have a `forward` method defined. It takes in a tensor `x` and passes it through the operations you defined in the `__init__` method.\n",
    "\n",
    "```python\n",
    "x = self.hidden(x)\n",
    "x = self.sigmoid(x)\n",
    "x = self.output(x)\n",
    "x = self.softmax(x)\n",
    "```\n",
    "\n",
    "Here the input tensor `x` is passed through each operation and reassigned to `x`. We can see that the input tensor goes through the hidden layer, then a sigmoid function, then the output layer, and finally the softmax function. It doesn't matter what you name the variables here, as long as the inputs and outputs of the operations match the network architecture you want to build. The order in which you define things in the `__init__` method doesn't matter, but you'll need to sequence the operations correctly in the `forward` method.\n",
    "\n",
    "Now we can create a `Network` object."
   ]
  },
  {
   "cell_type": "code",
   "execution_count": 13,
   "metadata": {},
   "outputs": [
    {
     "data": {
      "text/plain": [
       "Network(\n",
       "  (hidden): Linear(in_features=784, out_features=256, bias=True)\n",
       "  (output): Linear(in_features=256, out_features=10, bias=True)\n",
       "  (sigmoid): Sigmoid()\n",
       "  (softmax): Softmax(dim=1)\n",
       ")"
      ]
     },
     "execution_count": 13,
     "metadata": {},
     "output_type": "execute_result"
    }
   ],
   "source": [
    "# Create the network and look at it's text representation\n",
    "model = Network()\n",
    "model"
   ]
  },
  {
   "cell_type": "markdown",
   "metadata": {},
   "source": [
    "You can define the network somewhat more concisely and clearly using the `torch.nn.functional` module. This is the most common way you'll see networks defined as many operations are simple element-wise functions. We normally import this module as `F`, `import torch.nn.functional as F`."
   ]
  },
  {
   "cell_type": "code",
   "execution_count": 14,
   "metadata": {},
   "outputs": [],
   "source": [
    "import torch.nn.functional as F\n",
    "\n",
    "class Network(nn.Module):\n",
    "    def __init__(self):\n",
    "        super().__init__()\n",
    "        # Inputs to hidden layer linear transformation\n",
    "        self.hidden = nn.Linear(784, 256)\n",
    "        # Output layer, 10 units - one for each digit\n",
    "        self.output = nn.Linear(256, 10)\n",
    "        \n",
    "    def forward(self, x):\n",
    "        # Hidden layer with sigmoid activation\n",
    "        x = F.sigmoid(self.hidden(x))\n",
    "        # Output layer with softmax activation\n",
    "        x = F.softmax(self.output(x), dim=1)\n",
    "        \n",
    "        return x"
   ]
  },
  {
   "cell_type": "markdown",
   "metadata": {},
   "source": [
    "### Activation functions\n",
    "\n",
    "So far we've only been looking at the sigmoid activation function, but in general any function can be used as an activation function. The only requirement is that for a network to approximate a non-linear function, the activation functions must be non-linear. Here are a few more examples of common activation functions: Tanh (hyperbolic tangent), and ReLU (rectified linear unit).\n",
    "\n",
    "<img src=\"assets/activation.png\" width=700px>\n",
    "\n",
    "In practice, the ReLU function is used almost exclusively as the activation function for hidden layers."
   ]
  },
  {
   "cell_type": "markdown",
   "metadata": {},
   "source": [
    "### Your Turn to Build a Network\n",
    "\n",
    "<img src=\"assets/mlp_mnist.png\" width=600px>\n",
    "\n",
    "> **Exercise:** Create a network with 784 input units, a hidden layer with 128 units and a ReLU activation, then a hidden layer with 64 units and a ReLU activation, and finally an output layer with a softmax activation as shown above. You can use a ReLU activation with the `nn.ReLU` module or `F.relu` function.\n",
    "\n",
    "It's good practice to name your layers by their type of network, for instance 'fc' to represent a fully-connected layer. As you code your solution, use `fc1`, `fc2`, and `fc3` as your layer names."
   ]
  },
  {
   "cell_type": "code",
   "execution_count": 15,
   "metadata": {
    "scrolled": true
   },
   "outputs": [
    {
     "data": {
      "text/plain": [
       "Networkfc(\n",
       "  (fc1): Linear(in_features=784, out_features=128, bias=True)\n",
       "  (fc2): Linear(in_features=128, out_features=64, bias=True)\n",
       "  (fc3): Linear(in_features=64, out_features=10, bias=True)\n",
       ")"
      ]
     },
     "execution_count": 15,
     "metadata": {},
     "output_type": "execute_result"
    }
   ],
   "source": [
    "## Your solution here\n",
    "\n",
    "class Networkfc(nn.Module):\n",
    "    \n",
    "    def __init__(self):\n",
    "        super().__init__()\n",
    "        \n",
    "        n_input = 784\n",
    "        n_fc1 = 128\n",
    "        n_fc2 = 64\n",
    "        n_fc3 = 10\n",
    "        \n",
    "        self.fc1 = nn.Linear(n_input, n_fc1)  # hidden layer 1 - 784 x 128\n",
    "        self.fc2 = nn.Linear(n_fc1, n_fc2)    # hidden layer 2 - 128 x 64\n",
    "        self.fc3 = nn.Linear(n_fc2, n_fc3)    # output layer - 64 x 10\n",
    "        \n",
    "        \n",
    "    def forward(self, x):\n",
    "        \n",
    "        x = F.relu(self.fc1(x))\n",
    "        x = F.relu(self.fc2(x))\n",
    "        x = F.softmax(self.fc3(x), dim = 1)        \n",
    "        return x\n",
    "\n",
    "model = Networkfc()\n",
    "model"
   ]
  },
  {
   "cell_type": "markdown",
   "metadata": {},
   "source": [
    "### Initializing weights and biases\n",
    "\n",
    "The weights and such are automatically initialized for you, but it's possible to customize how they are initialized. The weights and biases are tensors attached to the layer you defined, you can get them with `model.fc1.weight` for instance."
   ]
  },
  {
   "cell_type": "code",
   "execution_count": 16,
   "metadata": {},
   "outputs": [
    {
     "name": "stdout",
     "output_type": "stream",
     "text": [
      "Parameter containing:\n",
      "tensor([[ 0.0019,  0.0005, -0.0266,  ...,  0.0021,  0.0257,  0.0180],\n",
      "        [-0.0291,  0.0194,  0.0033,  ..., -0.0058, -0.0152, -0.0074],\n",
      "        [-0.0255,  0.0141, -0.0173,  ..., -0.0066,  0.0269,  0.0035],\n",
      "        ...,\n",
      "        [-0.0114,  0.0222,  0.0197,  ...,  0.0243,  0.0304,  0.0111],\n",
      "        [-0.0090, -0.0345, -0.0355,  ..., -0.0130,  0.0239, -0.0339],\n",
      "        [ 0.0088,  0.0205,  0.0327,  ..., -0.0091,  0.0315,  0.0055]],\n",
      "       requires_grad=True)\n",
      "Parameter containing:\n",
      "tensor([-0.0006, -0.0100,  0.0276, -0.0134, -0.0039,  0.0245, -0.0207,  0.0039,\n",
      "        -0.0155,  0.0004,  0.0028, -0.0305,  0.0163,  0.0109, -0.0037,  0.0187,\n",
      "         0.0095,  0.0269, -0.0096, -0.0019, -0.0355,  0.0344,  0.0178, -0.0305,\n",
      "        -0.0307, -0.0113, -0.0355,  0.0336, -0.0058, -0.0032,  0.0309,  0.0017,\n",
      "         0.0203, -0.0101,  0.0036, -0.0251, -0.0256, -0.0087,  0.0092, -0.0355,\n",
      "         0.0127, -0.0146, -0.0254, -0.0126, -0.0269,  0.0212,  0.0112, -0.0237,\n",
      "         0.0278,  0.0016, -0.0003,  0.0029, -0.0072,  0.0156,  0.0173, -0.0053,\n",
      "         0.0148,  0.0055,  0.0167, -0.0079,  0.0071,  0.0239,  0.0309,  0.0081,\n",
      "         0.0260,  0.0178, -0.0177,  0.0286, -0.0192,  0.0316, -0.0331, -0.0061,\n",
      "        -0.0203, -0.0219,  0.0069, -0.0191,  0.0133, -0.0211,  0.0017,  0.0135,\n",
      "        -0.0236, -0.0094,  0.0270,  0.0357, -0.0104,  0.0139,  0.0025, -0.0290,\n",
      "         0.0053, -0.0285,  0.0193, -0.0171,  0.0198,  0.0064,  0.0045,  0.0033,\n",
      "        -0.0205, -0.0122,  0.0348, -0.0299, -0.0246,  0.0097, -0.0101, -0.0285,\n",
      "         0.0185,  0.0236,  0.0244, -0.0269, -0.0338, -0.0353,  0.0282,  0.0088,\n",
      "        -0.0025, -0.0083, -0.0050,  0.0320, -0.0272, -0.0181,  0.0189,  0.0148,\n",
      "        -0.0171, -0.0174, -0.0209, -0.0208, -0.0314, -0.0042, -0.0348, -0.0181],\n",
      "       requires_grad=True)\n"
     ]
    }
   ],
   "source": [
    "print(model.fc1.weight)\n",
    "print(model.fc1.bias)"
   ]
  },
  {
   "cell_type": "markdown",
   "metadata": {},
   "source": [
    "For custom initialization, we want to modify these tensors in place. These are actually autograd *Variables*, so we need to get back the actual tensors with `model.fc1.weight.data`. Once we have the tensors, we can fill them with zeros (for biases) or random normal values."
   ]
  },
  {
   "cell_type": "code",
   "execution_count": 17,
   "metadata": {},
   "outputs": [
    {
     "data": {
      "text/plain": [
       "tensor([0., 0., 0., 0., 0., 0., 0., 0., 0., 0., 0., 0., 0., 0., 0., 0., 0., 0., 0., 0., 0., 0., 0., 0.,\n",
       "        0., 0., 0., 0., 0., 0., 0., 0., 0., 0., 0., 0., 0., 0., 0., 0., 0., 0., 0., 0., 0., 0., 0., 0.,\n",
       "        0., 0., 0., 0., 0., 0., 0., 0., 0., 0., 0., 0., 0., 0., 0., 0., 0., 0., 0., 0., 0., 0., 0., 0.,\n",
       "        0., 0., 0., 0., 0., 0., 0., 0., 0., 0., 0., 0., 0., 0., 0., 0., 0., 0., 0., 0., 0., 0., 0., 0.,\n",
       "        0., 0., 0., 0., 0., 0., 0., 0., 0., 0., 0., 0., 0., 0., 0., 0., 0., 0., 0., 0., 0., 0., 0., 0.,\n",
       "        0., 0., 0., 0., 0., 0., 0., 0.])"
      ]
     },
     "execution_count": 17,
     "metadata": {},
     "output_type": "execute_result"
    }
   ],
   "source": [
    "# Set biases to all zeros\n",
    "model.fc1.bias.data.fill_(0)"
   ]
  },
  {
   "cell_type": "code",
   "execution_count": 18,
   "metadata": {},
   "outputs": [
    {
     "data": {
      "text/plain": [
       "tensor([[ 0.0013, -0.0097, -0.0107,  ...,  0.0088, -0.0066,  0.0040],\n",
       "        [-0.0093,  0.0021,  0.0107,  ...,  0.0003,  0.0007,  0.0027],\n",
       "        [ 0.0085, -0.0038,  0.0023,  ..., -0.0218, -0.0126,  0.0017],\n",
       "        ...,\n",
       "        [ 0.0034, -0.0230,  0.0046,  ...,  0.0049, -0.0056,  0.0109],\n",
       "        [-0.0020,  0.0027, -0.0104,  ...,  0.0089, -0.0030,  0.0080],\n",
       "        [ 0.0027,  0.0078, -0.0043,  ..., -0.0089,  0.0020,  0.0119]])"
      ]
     },
     "execution_count": 18,
     "metadata": {},
     "output_type": "execute_result"
    }
   ],
   "source": [
    "# sample from random normal with standard dev = 0.01\n",
    "model.fc1.weight.data.normal_(std=0.01)"
   ]
  },
  {
   "cell_type": "markdown",
   "metadata": {},
   "source": [
    "### Forward pass\n",
    "\n",
    "Now that we have a network, let's see what happens when we pass in an image."
   ]
  },
  {
   "cell_type": "code",
   "execution_count": 21,
   "metadata": {},
   "outputs": [
    {
     "data": {
      "image/png": "[encoded data removed]",
      "text/plain": [
       "<Figure size 432x648 with 2 Axes>"
      ]
     },
     "metadata": {
      "image/png": {
       "height": 235,
       "width": 424
      },
      "needs_background": "light"
     },
     "output_type": "display_data"
    }
   ],
   "source": [
    "# Grab some data \n",
    "dataiter = iter(trainloader)\n",
    "images, labels = dataiter.next()\n",
    "\n",
    "# Resize images into a 1D vector, new shape is (batch size, color channels, image pixels) \n",
    "images.resize_(64, 1, 784)\n",
    "# or images.resize_(images.shape[0], 1, 784) to automatically get batch size\n",
    "\n",
    "# Forward pass through the network\n",
    "img_idx = 0\n",
    "ps = model.forward(images[img_idx,:])\n",
    "\n",
    "img = images[img_idx]\n",
    "helper.view_classify(img.view(1, 28, 28), ps)"
   ]
  },
  {
   "cell_type": "markdown",
   "metadata": {},
   "source": [
    "As you can see above, our network has basically no idea what this digit is. It's because we haven't trained it yet, all the weights are random!\n",
    "\n",
    "### Using `nn.Sequential`\n",
    "\n",
    "PyTorch provides a convenient way to build networks like this where a tensor is passed sequentially through operations, `nn.Sequential` ([documentation](https://pytorch.org/docs/master/nn.html#torch.nn.Sequential)). Using this to build the equivalent network:"
   ]
  },
  {
   "cell_type": "code",
   "execution_count": 22,
   "metadata": {},
   "outputs": [
    {
     "name": "stdout",
     "output_type": "stream",
     "text": [
      "Sequential(\n",
      "  (0): Linear(in_features=784, out_features=128, bias=True)\n",
      "  (1): ReLU()\n",
      "  (2): Linear(in_features=128, out_features=64, bias=True)\n",
      "  (3): ReLU()\n",
      "  (4): Linear(in_features=64, out_features=10, bias=True)\n",
      "  (5): Softmax(dim=1)\n",
      ")\n"
     ]
    },
    {
     "data": {
      "image/png": "[encoded data removed]",
      "text/plain": [
       "<Figure size 432x648 with 2 Axes>"
      ]
     },
     "metadata": {
      "image/png": {
       "height": 235,
       "width": 424
      },
      "needs_background": "light"
     },
     "output_type": "display_data"
    }
   ],
   "source": [
    "# Hyperparameters for our network\n",
    "input_size = 784\n",
    "hidden_sizes = [128, 64]\n",
    "output_size = 10\n",
    "\n",
    "# Build a feed-forward network\n",
    "model = nn.Sequential(nn.Linear(input_size, hidden_sizes[0]),\n",
    "                      nn.ReLU(),\n",
    "                      nn.Linear(hidden_sizes[0], hidden_sizes[1]),\n",
    "                      nn.ReLU(),\n",
    "                      nn.Linear(hidden_sizes[1], output_size),\n",
    "                      nn.Softmax(dim=1))\n",
    "print(model)\n",
    "\n",
    "# Forward pass through the network and display output\n",
    "images, labels = next(iter(trainloader))\n",
    "images.resize_(images.shape[0], 1, 784)\n",
    "ps = model.forward(images[0,:])\n",
    "helper.view_classify(images[0].view(1, 28, 28), ps)"
   ]
  },
  {
   "cell_type": "markdown",
   "metadata": {},
   "source": [
    "Here our model is the same as before: 784 input units, a hidden layer with 128 units, ReLU activation, 64 unit hidden layer, another ReLU, then the output layer with 10 units, and the softmax output.\n",
    "\n",
    "The operations are available by passing in the appropriate index. For example, if you want to get first Linear operation and look at the weights, you'd use `model[0]`."
   ]
  },
  {
   "cell_type": "code",
   "execution_count": 23,
   "metadata": {},
   "outputs": [
    {
     "name": "stdout",
     "output_type": "stream",
     "text": [
      "Linear(in_features=784, out_features=128, bias=True)\n"
     ]
    },
    {
     "data": {
      "text/plain": [
       "Parameter containing:\n",
       "tensor([[-0.0289, -0.0236,  0.0015,  ..., -0.0220,  0.0101, -0.0019],\n",
       "        [ 0.0044,  0.0231,  0.0312,  ..., -0.0308, -0.0140,  0.0009],\n",
       "        [ 0.0297, -0.0240,  0.0244,  ..., -0.0061,  0.0054,  0.0330],\n",
       "        ...,\n",
       "        [ 0.0235, -0.0155,  0.0275,  ..., -0.0197, -0.0173, -0.0027],\n",
       "        [ 0.0169,  0.0128,  0.0176,  ..., -0.0313,  0.0333,  0.0132],\n",
       "        [ 0.0223, -0.0171, -0.0122,  ..., -0.0220,  0.0058,  0.0126]],\n",
       "       requires_grad=True)"
      ]
     },
     "execution_count": 23,
     "metadata": {},
     "output_type": "execute_result"
    }
   ],
   "source": [
    "print(model[0])\n",
    "model[0].weight"
   ]
  },
  {
   "cell_type": "markdown",
   "metadata": {},
   "source": [
    "You can also pass in an `OrderedDict` to name the individual layers and operations, instead of using incremental integers. Note that dictionary keys must be unique, so _each operation must have a different name_."
   ]
  },
  {
   "cell_type": "code",
   "execution_count": 24,
   "metadata": {},
   "outputs": [
    {
     "data": {
      "text/plain": [
       "Sequential(\n",
       "  (fc1): Linear(in_features=784, out_features=128, bias=True)\n",
       "  (relu1): ReLU()\n",
       "  (fc2): Linear(in_features=128, out_features=64, bias=True)\n",
       "  (relu2): ReLU()\n",
       "  (output): Linear(in_features=64, out_features=10, bias=True)\n",
       "  (softmax): Softmax(dim=1)\n",
       ")"
      ]
     },
     "execution_count": 24,
     "metadata": {},
     "output_type": "execute_result"
    }
   ],
   "source": [
    "from collections import OrderedDict\n",
    "model = nn.Sequential(OrderedDict([\n",
    "                      ('fc1', nn.Linear(input_size, hidden_sizes[0])),\n",
    "                      ('relu1', nn.ReLU()),\n",
    "                      ('fc2', nn.Linear(hidden_sizes[0], hidden_sizes[1])),\n",
    "                      ('relu2', nn.ReLU()),\n",
    "                      ('output', nn.Linear(hidden_sizes[1], output_size)),\n",
    "                      ('softmax', nn.Softmax(dim=1))]))\n",
    "model"
   ]
  },
  {
   "cell_type": "markdown",
   "metadata": {},
   "source": [
    "Now you can access layers either by integer or the name"
   ]
  },
  {
   "cell_type": "code",
   "execution_count": 25,
   "metadata": {},
   "outputs": [
    {
     "name": "stdout",
     "output_type": "stream",
     "text": [
      "Linear(in_features=784, out_features=128, bias=True)\n",
      "Linear(in_features=784, out_features=128, bias=True)\n"
     ]
    }
   ],
   "source": [
    "print(model[0])\n",
    "print(model.fc1)"
   ]
  },
  {
   "cell_type": "markdown",
   "metadata": {},
   "source": [
    "In the next notebook, we'll see how we can train a neural network to accuractly predict the numbers appearing in the MNIST images."
   ]
  }
 ],
 "metadata": {
  "kernelspec": {
   "display_name": "Python 3",
   "language": "python",
   "name": "python3"
  },
  "language_info": {
   "codemirror_mode": {
    "name": "ipython",
    "version": 3
   },
   "file_extension": ".py",
   "mimetype": "text/x-python",
   "name": "python",
   "nbconvert_exporter": "python",
   "pygments_lexer": "ipython3",
   "version": "3.7.7"
  }
 },
 "nbformat": 4,
 "nbformat_minor": 2
}
