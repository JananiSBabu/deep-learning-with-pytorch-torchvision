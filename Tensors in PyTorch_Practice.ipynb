{
 "cells": [
  {
   "cell_type": "markdown",
   "metadata": {},
   "source": [
    "# Practice Pytorch"
   ]
  },
  {
   "cell_type": "code",
   "execution_count": 23,
   "metadata": {},
   "outputs": [
    {
     "name": "stdout",
     "output_type": "stream",
     "text": [
      "features :  tensor([[-0.1468,  0.7861,  0.9468, -1.1143,  1.6908]]) torch.Size([1, 5])\n",
      "weights :  tensor([[-0.8948, -0.3556,  1.2324,  0.1382, -1.6822]]) torch.Size([1, 5])\n",
      "bias :  tensor([[0.3177]]) torch.Size([1, 1])\n"
     ]
    }
   ],
   "source": [
    "import torch\n",
    "\n",
    "def activation(x):\n",
    "    return 1 / (1 + torch.exp(-x))\n",
    "\n",
    "torch.manual_seed(7)\n",
    "\n",
    "# random normal variable of size 1,5\n",
    "features = torch.randn((1,5))\n",
    "print(\"features : \",features , features.shape)\n",
    "\n",
    "# weights -> random normal variable with the shape of features\n",
    "weights = torch.randn_like(features)\n",
    "print(\"weights : \",weights, weights.shape)\n",
    "\n",
    "bias = torch.randn(1, 1)\n",
    "print(\"bias : \",bias, bias.shape)"
   ]
  },
  {
   "cell_type": "markdown",
   "metadata": {},
   "source": [
    "To flip weights we can use: \n",
    "    - reshape\n",
    "    - resize  -> if asked a shape which has more or less elements, it will cut off\n",
    "    - view * it is preferred!!"
   ]
  },
  {
   "cell_type": "code",
   "execution_count": 22,
   "metadata": {},
   "outputs": [
    {
     "name": "stdout",
     "output_type": "stream",
     "text": [
      "weights :  tensor([[-0.0242]]) torch.Size([1, 1])\n",
      "weights :  tensor([[-0.0242]]) torch.Size([1, 1])\n",
      "weights :  tensor([[-0.0242]]) torch.Size([1, 1])\n"
     ]
    }
   ],
   "source": [
    "mm = torch.mm(features, weights.view(5, 1))\n",
    "print(\"weights : \",mm, mm.shape)\n",
    "\n",
    "mm1 = torch.mm(features, weights.reshape(5, 1))\n",
    "print(\"weights : \",mm1, mm1.shape)\n",
    "\n",
    "#_in place operation\n",
    "mm2 = torch.mm(features, weights.resize_(5, 1))\n",
    "print(\"weights : \",mm2, mm2.shape)"
   ]
  },
  {
   "cell_type": "code",
   "execution_count": 25,
   "metadata": {},
   "outputs": [
    {
     "data": {
      "text/plain": [
       "tensor([[0.5729]])"
      ]
     },
     "execution_count": 25,
     "metadata": {},
     "output_type": "execute_result"
    }
   ],
   "source": [
    "output  = activation(mm + bias)\n",
    "output "
   ]
  },
  {
   "cell_type": "markdown",
   "metadata": {},
   "source": [
    "### converting torch to numpy & vv -> .numpy(), .from_numpy\n",
    "\n",
    "these are oinplace conversions, changing one will change another!!!"
   ]
  },
  {
   "cell_type": "code",
   "execution_count": 29,
   "metadata": {},
   "outputs": [
    {
     "data": {
      "text/plain": [
       "array([1, 2, 3])"
      ]
     },
     "execution_count": 29,
     "metadata": {},
     "output_type": "execute_result"
    }
   ],
   "source": [
    "import numpy as np\n",
    "\n",
    "npvar = np.array([1, 2, 3])\n",
    "npvar"
   ]
  },
  {
   "cell_type": "code",
   "execution_count": 31,
   "metadata": {},
   "outputs": [
    {
     "data": {
      "text/plain": [
       "tensor([1, 2, 3], dtype=torch.int32)"
      ]
     },
     "execution_count": 31,
     "metadata": {},
     "output_type": "execute_result"
    }
   ],
   "source": [
    "btor = torch.from_numpy(npvar)\n",
    "btor"
   ]
  },
  {
   "cell_type": "code",
   "execution_count": 33,
   "metadata": {},
   "outputs": [
    {
     "data": {
      "text/plain": [
       "array([1, 2, 3])"
      ]
     },
     "execution_count": 33,
     "metadata": {},
     "output_type": "execute_result"
    }
   ],
   "source": [
    "npvar2 = btor.numpy()\n",
    "npvar2"
   ]
  },
  {
   "cell_type": "code",
   "execution_count": 40,
   "metadata": {},
   "outputs": [
    {
     "data": {
      "text/plain": [
       "tensor([2, 4, 6], dtype=torch.int32)"
      ]
     },
     "execution_count": 40,
     "metadata": {},
     "output_type": "execute_result"
    }
   ],
   "source": [
    "btor.mul_(2)"
   ]
  },
  {
   "cell_type": "code",
   "execution_count": 44,
   "metadata": {},
   "outputs": [
    {
     "data": {
      "text/plain": [
       "array([2, 4, 6])"
      ]
     },
     "execution_count": 44,
     "metadata": {},
     "output_type": "execute_result"
    }
   ],
   "source": [
    "npvar"
   ]
  },
  {
   "cell_type": "code",
   "execution_count": 42,
   "metadata": {},
   "outputs": [
    {
     "data": {
      "text/plain": [
       "array([2, 4, 6])"
      ]
     },
     "execution_count": 42,
     "metadata": {},
     "output_type": "execute_result"
    }
   ],
   "source": [
    "npvar2"
   ]
  },
  {
   "cell_type": "code",
   "execution_count": null,
   "metadata": {},
   "outputs": [],
   "source": []
  }
 ],
 "metadata": {
  "kernelspec": {
   "display_name": "Python 3",
   "language": "python",
   "name": "python3"
  },
  "language_info": {
   "codemirror_mode": {
    "name": "ipython",
    "version": 3
   },
   "file_extension": ".py",
   "mimetype": "text/x-python",
   "name": "python",
   "nbconvert_exporter": "python",
   "pygments_lexer": "ipython3",
   "version": "3.7.7"
  }
 },
 "nbformat": 4,
 "nbformat_minor": 4
}
