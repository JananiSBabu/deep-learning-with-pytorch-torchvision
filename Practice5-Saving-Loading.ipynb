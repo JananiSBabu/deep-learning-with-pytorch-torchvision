{
 "cells": [
  {
   "cell_type": "markdown",
   "metadata": {},
   "source": [
    "# Saving and loading models"
   ]
  },
  {
   "cell_type": "code",
   "execution_count": 2,
   "metadata": {},
   "outputs": [],
   "source": [
    "%matplotlib inline\n",
    "%config InlineBackend.figure_format = 'retina'\n",
    "\n",
    "import matplotlib.pyplot as plt\n",
    "\n",
    "import torch\n",
    "from torch import nn\n",
    "from torch import optim\n",
    "import torch.nn.functional as F\n",
    "from torchvision import datasets, transforms\n",
    "\n",
    "import helper\n",
    "import fc_model"
   ]
  },
  {
   "cell_type": "code",
   "execution_count": 7,
   "metadata": {},
   "outputs": [
    {
     "name": "stdout",
     "output_type": "stream",
     "text": [
      "Help on function train in module fc_model:\n",
      "\n",
      "train(model, trainloader, testloader, criterion, optimizer, epochs=5, print_every=40)\n",
      "\n",
      "<class 'module'>\n"
     ]
    }
   ],
   "source": [
    "# help(fc_model)\n",
    "\n",
    "# help(fc_model.Network) # Network is teh class that defines the classifier\n",
    "\n",
    "help(fc_model.train)\n",
    "\n",
    "print(type(fc_model))"
   ]
  },
  {
   "cell_type": "code",
   "execution_count": 5,
   "metadata": {},
   "outputs": [],
   "source": [
    "# Define a transform to normalize the data\n",
    "transform = transforms.Compose([transforms.ToTensor(),\n",
    "                                transforms.Normalize((0.5,), (0.5,))])\n",
    "# Download and load the training data\n",
    "trainset = datasets.FashionMNIST('~/.pytorch/F_MNIST_data/', download=True, train=True, transform=transform)\n",
    "trainloader = torch.utils.data.DataLoader(trainset, batch_size=64, shuffle=True)\n",
    "\n",
    "# Download and load the test data\n",
    "testset = datasets.FashionMNIST('~/.pytorch/F_MNIST_data/', download=True, train=False, transform=transform)\n",
    "testloader = torch.utils.data.DataLoader(testset, batch_size=64, shuffle=True)"
   ]
  },
  {
   "attachments": {
    "image.png": {
     "image/png": "[encoded data removed]"
    }
   },
   "cell_type": "markdown",
   "metadata": {},
   "source": [
    "![image.png](attachment:image.png)"
   ]
  },
  {
   "cell_type": "code",
   "execution_count": 8,
   "metadata": {},
   "outputs": [
    {
     "name": "stdout",
     "output_type": "stream",
     "text": [
      "Epoch: 1/2..  Training Loss: 1.721..  Test Loss: 1.002..  Test Accuracy: 0.627\n",
      "Epoch: 1/2..  Training Loss: 1.053..  Test Loss: 0.754..  Test Accuracy: 0.722\n",
      "Epoch: 1/2..  Training Loss: 0.821..  Test Loss: 0.649..  Test Accuracy: 0.748\n",
      "Epoch: 1/2..  Training Loss: 0.819..  Test Loss: 0.625..  Test Accuracy: 0.766\n",
      "Epoch: 1/2..  Training Loss: 0.751..  Test Loss: 0.607..  Test Accuracy: 0.771\n",
      "Epoch: 1/2..  Training Loss: 0.740..  Test Loss: 0.611..  Test Accuracy: 0.752\n",
      "Epoch: 1/2..  Training Loss: 0.712..  Test Loss: 0.581..  Test Accuracy: 0.786\n",
      "Epoch: 1/2..  Training Loss: 0.668..  Test Loss: 0.560..  Test Accuracy: 0.790\n",
      "Epoch: 1/2..  Training Loss: 0.634..  Test Loss: 0.543..  Test Accuracy: 0.804\n",
      "Epoch: 1/2..  Training Loss: 0.605..  Test Loss: 0.564..  Test Accuracy: 0.784\n",
      "Epoch: 1/2..  Training Loss: 0.665..  Test Loss: 0.554..  Test Accuracy: 0.789\n",
      "Epoch: 1/2..  Training Loss: 0.637..  Test Loss: 0.527..  Test Accuracy: 0.800\n",
      "Epoch: 1/2..  Training Loss: 0.631..  Test Loss: 0.559..  Test Accuracy: 0.791\n",
      "Epoch: 1/2..  Training Loss: 0.614..  Test Loss: 0.511..  Test Accuracy: 0.807\n",
      "Epoch: 1/2..  Training Loss: 0.610..  Test Loss: 0.516..  Test Accuracy: 0.812\n",
      "Epoch: 1/2..  Training Loss: 0.614..  Test Loss: 0.509..  Test Accuracy: 0.813\n",
      "Epoch: 1/2..  Training Loss: 0.636..  Test Loss: 0.488..  Test Accuracy: 0.819\n",
      "Epoch: 1/2..  Training Loss: 0.558..  Test Loss: 0.485..  Test Accuracy: 0.824\n",
      "Epoch: 1/2..  Training Loss: 0.607..  Test Loss: 0.504..  Test Accuracy: 0.813\n",
      "Epoch: 1/2..  Training Loss: 0.563..  Test Loss: 0.502..  Test Accuracy: 0.821\n",
      "Epoch: 1/2..  Training Loss: 0.583..  Test Loss: 0.509..  Test Accuracy: 0.809\n",
      "Epoch: 1/2..  Training Loss: 0.570..  Test Loss: 0.493..  Test Accuracy: 0.819\n",
      "Epoch: 1/2..  Training Loss: 0.554..  Test Loss: 0.502..  Test Accuracy: 0.808\n",
      "Epoch: 2/2..  Training Loss: 0.519..  Test Loss: 0.480..  Test Accuracy: 0.824\n",
      "Epoch: 2/2..  Training Loss: 0.551..  Test Loss: 0.478..  Test Accuracy: 0.824\n",
      "Epoch: 2/2..  Training Loss: 0.560..  Test Loss: 0.470..  Test Accuracy: 0.832\n",
      "Epoch: 2/2..  Training Loss: 0.550..  Test Loss: 0.472..  Test Accuracy: 0.831\n",
      "Epoch: 2/2..  Training Loss: 0.558..  Test Loss: 0.489..  Test Accuracy: 0.819\n",
      "Epoch: 2/2..  Training Loss: 0.543..  Test Loss: 0.485..  Test Accuracy: 0.822\n",
      "Epoch: 2/2..  Training Loss: 0.538..  Test Loss: 0.490..  Test Accuracy: 0.829\n",
      "Epoch: 2/2..  Training Loss: 0.543..  Test Loss: 0.456..  Test Accuracy: 0.835\n",
      "Epoch: 2/2..  Training Loss: 0.513..  Test Loss: 0.449..  Test Accuracy: 0.834\n",
      "Epoch: 2/2..  Training Loss: 0.557..  Test Loss: 0.483..  Test Accuracy: 0.824\n",
      "Epoch: 2/2..  Training Loss: 0.527..  Test Loss: 0.474..  Test Accuracy: 0.824\n",
      "Epoch: 2/2..  Training Loss: 0.534..  Test Loss: 0.456..  Test Accuracy: 0.832\n",
      "Epoch: 2/2..  Training Loss: 0.559..  Test Loss: 0.472..  Test Accuracy: 0.825\n",
      "Epoch: 2/2..  Training Loss: 0.515..  Test Loss: 0.491..  Test Accuracy: 0.815\n",
      "Epoch: 2/2..  Training Loss: 0.530..  Test Loss: 0.454..  Test Accuracy: 0.831\n",
      "Epoch: 2/2..  Training Loss: 0.484..  Test Loss: 0.457..  Test Accuracy: 0.836\n",
      "Epoch: 2/2..  Training Loss: 0.540..  Test Loss: 0.444..  Test Accuracy: 0.833\n",
      "Epoch: 2/2..  Training Loss: 0.523..  Test Loss: 0.448..  Test Accuracy: 0.837\n",
      "Epoch: 2/2..  Training Loss: 0.513..  Test Loss: 0.461..  Test Accuracy: 0.837\n",
      "Epoch: 2/2..  Training Loss: 0.525..  Test Loss: 0.439..  Test Accuracy: 0.839\n",
      "Epoch: 2/2..  Training Loss: 0.486..  Test Loss: 0.453..  Test Accuracy: 0.831\n",
      "Epoch: 2/2..  Training Loss: 0.527..  Test Loss: 0.440..  Test Accuracy: 0.832\n",
      "Epoch: 2/2..  Training Loss: 0.508..  Test Loss: 0.452..  Test Accuracy: 0.834\n"
     ]
    }
   ],
   "source": [
    "# Create the network, define the criterion and optimizer, TRain it\n",
    "\n",
    "model = fc_model.Network(784, 10, [512, 256, 128])\n",
    "criterion = nn.NLLLoss()\n",
    "optimizer = optim.Adam(model.parameters(), lr=0.001)\n",
    "\n",
    "# train model\n",
    "fc_model.train(model, trainloader, testloader, criterion, optimizer, epochs=2)"
   ]
  },
  {
   "cell_type": "markdown",
   "metadata": {},
   "source": [
    "### state_dict()\n",
    "\n",
    "Contains all the parameters of the model - weights, biases"
   ]
  },
  {
   "cell_type": "code",
   "execution_count": 10,
   "metadata": {},
   "outputs": [
    {
     "name": "stdout",
     "output_type": "stream",
     "text": [
      "Trained model: \n",
      " \n",
      " Network(\n",
      "  (hidden_layers): ModuleList(\n",
      "    (0): Linear(in_features=784, out_features=512, bias=True)\n",
      "    (1): Linear(in_features=512, out_features=256, bias=True)\n",
      "    (2): Linear(in_features=256, out_features=128, bias=True)\n",
      "  )\n",
      "  (output): Linear(in_features=128, out_features=10, bias=True)\n",
      "  (dropout): Dropout(p=0.5, inplace=False)\n",
      ") \n",
      "\n"
     ]
    }
   ],
   "source": [
    "print(\"Trained model: \\n \\n\", model,\"\\n \\n\")"
   ]
  },
  {
   "cell_type": "code",
   "execution_count": 12,
   "metadata": {},
   "outputs": [
    {
     "name": "stdout",
     "output_type": "stream",
     "text": [
      "state dictionary keys: \n",
      " \n",
      " odict_keys(['hidden_layers.0.weight', 'hidden_layers.0.bias', 'hidden_layers.1.weight', 'hidden_layers.1.bias', 'hidden_layers.2.weight', 'hidden_layers.2.bias', 'output.weight', 'output.bias'])\n"
     ]
    }
   ],
   "source": [
    "print(\"state dictionary keys: \\n \\n\", model.state_dict().keys())"
   ]
  },
  {
   "cell_type": "markdown",
   "metadata": {},
   "source": [
    "### torch.save()\n",
    "\n",
    "can be used to save the state_dict() in a .pth file as a checkpoint"
   ]
  },
  {
   "cell_type": "code",
   "execution_count": 14,
   "metadata": {},
   "outputs": [],
   "source": [
    "torch.save(model.state_dict(), 'trainedmodelcheckpoint.pth')"
   ]
  },
  {
   "cell_type": "code",
   "execution_count": 17,
   "metadata": {},
   "outputs": [
    {
     "name": "stdout",
     "output_type": "stream",
     "text": [
      "odict_keys(['hidden_layers.0.weight', 'hidden_layers.0.bias', 'hidden_layers.1.weight', 'hidden_layers.1.bias', 'hidden_layers.2.weight', 'hidden_layers.2.bias', 'output.weight', 'output.bias'])\n"
     ]
    }
   ],
   "source": [
    "saved_state_dict = torch.load('trainedmodelcheckpoint.pth')\n",
    "print(saved_state_dict.keys())"
   ]
  },
  {
   "cell_type": "markdown",
   "metadata": {},
   "source": [
    "### load_state_dict()\n",
    "\n",
    "This works only when model architecture matches the saved parameters"
   ]
  },
  {
   "cell_type": "code",
   "execution_count": 18,
   "metadata": {},
   "outputs": [
    {
     "data": {
      "text/plain": [
       "<All keys matched successfully>"
      ]
     },
     "execution_count": 18,
     "metadata": {},
     "output_type": "execute_result"
    }
   ],
   "source": [
    "model.load_state_dict(saved_state_dict)\n"
   ]
  },
  {
   "cell_type": "markdown",
   "metadata": {},
   "source": [
    "### Save model architecture and state_dict"
   ]
  },
  {
   "cell_type": "code",
   "execution_count": 21,
   "metadata": {},
   "outputs": [],
   "source": [
    "checkpoint = {'input_size' : 784,\n",
    "              'output_size' : 10,\n",
    "              'hidden_layers' : [each.out_features for each in model.hidden_layers],\n",
    "              'state_dict' : model.state_dict()}\n",
    "# checkpoint\n",
    "\n",
    "torch.save(checkpoint, 'trainedmodelarchitecture.pth')"
   ]
  },
  {
   "cell_type": "markdown",
   "metadata": {},
   "source": [
    "### function to load checkpoints and build the model"
   ]
  },
  {
   "cell_type": "code",
   "execution_count": 22,
   "metadata": {},
   "outputs": [],
   "source": [
    "def load_checkpoint(filename):\n",
    "    \n",
    "    # this function loads checkpoints to create a model of type 'fc_model'\n",
    "    checkpoint = torch.load(filename)\n",
    "    \n",
    "    #re-create model from checkpoint\n",
    "    model = fc_model.Network(checkpoint['input_size'],\n",
    "                             checkpoint['output_size'],\n",
    "                             checkpoint['hidden_layers'])    \n",
    "    \n",
    "    # load parameter into the  model\n",
    "    model.load_state_dict(checkpoint['state_dict'])\n",
    "    \n",
    "    return model"
   ]
  },
  {
   "cell_type": "code",
   "execution_count": 23,
   "metadata": {},
   "outputs": [
    {
     "name": "stdout",
     "output_type": "stream",
     "text": [
      "Network(\n",
      "  (hidden_layers): ModuleList(\n",
      "    (0): Linear(in_features=784, out_features=512, bias=True)\n",
      "    (1): Linear(in_features=512, out_features=256, bias=True)\n",
      "    (2): Linear(in_features=256, out_features=128, bias=True)\n",
      "  )\n",
      "  (output): Linear(in_features=128, out_features=10, bias=True)\n",
      "  (dropout): Dropout(p=0.5, inplace=False)\n",
      ")\n"
     ]
    }
   ],
   "source": [
    "new_model = load_checkpoint('trainedmodelarchitecture.pth')\n",
    "\n",
    "print(new_model)"
   ]
  },
  {
   "cell_type": "code",
   "execution_count": null,
   "metadata": {},
   "outputs": [],
   "source": []
  }
 ],
 "metadata": {
  "kernelspec": {
   "display_name": "Python 3",
   "language": "python",
   "name": "python3"
  },
  "language_info": {
   "codemirror_mode": {
    "name": "ipython",
    "version": 3
   },
   "file_extension": ".py",
   "mimetype": "text/x-python",
   "name": "python",
   "nbconvert_exporter": "python",
   "pygments_lexer": "ipython3",
   "version": "3.7.7"
  }
 },
 "nbformat": 4,
 "nbformat_minor": 4
}
